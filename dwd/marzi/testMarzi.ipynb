{
 "cells": [
  {
   "cell_type": "code",
   "execution_count": null,
   "metadata": {},
   "outputs": [],
   "source": [
    "import xarray as xr\n",
    "import numpy as np\n",
    "import glob\n",
    "import os\n",
    "import pandas as pd\n",
    "import matplotlib.pyplot as plt\n",
    "\n"
   ]
  },
  {
   "cell_type": "code",
   "execution_count": null,
   "metadata": {},
   "outputs": [],
   "source": [
    "# Define the bounding box for Germany\n",
    "LAT_MIN, LAT_MAX = 47, 55  # Latitude range for Germany\n",
    "LON_MIN, LON_MAX = 5, 15   # Longitude range for Germany\n",
    "\n",
    "def load_and_filter_precipitation(nc_files):\n",
    "    \"\"\"Loads precipitation data from NetCDF files and filters for Germany.\"\"\"\n",
    "    all_data = []\n",
    "    \n",
    "    for nc_file in nc_files:\n",
    "        print(f\"Processing: {nc_file}\")  # Debug print\n",
    "        ds = xr.open_dataset(nc_file)\n",
    "        \n",
    "        # Print dataset dimensions for debugging\n",
    "        print(f\"Dataset dimensions: {ds.dims}\")\n",
    "        print(f\"Dataset variables: {list(ds.variables)}\")\n",
    "        \n",
    "        # Ensure the dataset contains the 'precip' variable\n",
    "        if 'precip' not in ds:\n",
    "            print(f\"Warning: 'precip' variable not found in {nc_file}\")\n",
    "            continue\n",
    "        \n",
    "        precip = ds['precip']\n",
    "        \n",
    "        # Adjusting for correct coordinate names\n",
    "        lat_name = \"lat\" if \"lat\" in ds.dims else \"latitude\"\n",
    "        lon_name = \"lon\" if \"lon\" in ds.dims else \"longitude\"\n",
    "        \n",
    "        # Filter for Germany's latitude & longitude\n",
    "        precip_germany = precip.sel(**{\n",
    "            lat_name: slice(LAT_MAX, LAT_MIN),\n",
    "            lon_name: slice(LON_MIN, LON_MAX)\n",
    "        })\n",
    "        \n",
    "        # Convert to DataFrame and store\n",
    "        df = precip_germany.to_dataframe().reset_index()\n",
    "        if df.empty:\n",
    "            print(f\"Warning: No data for Germany in {nc_file}\")\n",
    "        else:\n",
    "            all_data.append(df)\n",
    "    \n",
    "    return all_data"
   ]
  },
  {
   "cell_type": "code",
   "execution_count": null,
   "metadata": {},
   "outputs": [],
   "source": [
    "DATA_FOLDER = \"unzipped_nc_files\"  # Folder where .nc files are stored\n",
    "\n",
    "\n",
    "nc_files = glob.glob(os.path.join(DATA_FOLDER, \"*.nc\"))\n",
    "if not nc_files:\n",
    "    print(f\"Error: No NetCDF files found in {DATA_FOLDER}\")\n",
    "else:\n",
    "    print(f\"Found {len(nc_files)} NetCDF files.\")\n",
    "\n",
    "# Step 2: Load & filter precipitation data for Germany\n",
    "data_frames = load_and_filter_precipitation(nc_files)"
   ]
  },
  {
   "cell_type": "code",
   "execution_count": null,
   "metadata": {},
   "outputs": [],
   "source": [
    "df_all = pd.concat(data_frames, ignore_index=True)\n",
    "df_all_cleaned = df_all.dropna(subset=['precip'])\n",
    "# Ensure 'time' is in datetime format\n",
    "df_all_cleaned['time'] = pd.to_datetime(df_all_cleaned['time'])\n",
    "\n",
    "# Calculate the mean precipitation for each month\n",
    "df_monthly_mean = df_all_cleaned.groupby(df_all_cleaned['time'].dt.to_period('M'))['precip'].mean().reset_index()\n",
    "\n",
    "# Convert 'time' back to string for clarity\n",
    "df_monthly_mean['time'] = df_monthly_mean['time'].astype(str)\n",
    "\n"
   ]
  },
  {
   "cell_type": "code",
   "execution_count": null,
   "metadata": {},
   "outputs": [],
   "source": [
    "# Define a function to determine the season based on the month\n",
    "def get_season(month):\n",
    "    if month in [12, 1, 2]:\n",
    "        return \"Winter\"\n",
    "    elif month in [3, 4, 5]:\n",
    "        return \"Spring\"\n",
    "    elif month in [6, 7, 8]:\n",
    "        return \"Summer\"\n",
    "    else:\n",
    "        return \"Autumn\"\n",
    "\n",
    "# Ensure 'time' is in datetime format\n",
    "df_all_cleaned['time'] = pd.to_datetime(df_all_cleaned['time'])\n",
    "\n",
    "# Extract the year and season\n",
    "df_all_cleaned['year'] = df_all_cleaned['time'].dt.year\n",
    "df_all_cleaned['season'] = df_all_cleaned['time'].dt.month.map(get_season)\n",
    "\n",
    "# Group by year and season, then calculate the mean precipitation\n",
    "df_seasonal_yearly_mean = df_all_cleaned.groupby(['year', 'season'])['precip'].mean().reset_index()\n",
    "df_seasonal_max = df_all_cleaned.groupby(['year', 'season'])['precip'].max().reset_index()\n",
    "df_seasonal_min = df_all_cleaned.groupby(['year', 'season'])['precip'].min().reset_index()\n",
    "\n",
    "# Display the result\n"
   ]
  },
  {
   "cell_type": "code",
   "execution_count": null,
   "metadata": {},
   "outputs": [],
   "source": [
    "# Plot Winter and Summer Seasonal Yearly Mean Precipitation\n",
    "df_winter = df_seasonal_yearly_mean[df_seasonal_yearly_mean[\"season\"] == \"Winter\"]\n",
    "df_summer = df_seasonal_yearly_mean[df_seasonal_yearly_mean[\"season\"] == \"Summer\"]\n",
    "\n",
    "plt.figure(figsize=(12, 6))\n",
    "plt.plot(df_winter[\"year\"], df_winter[\"precip\"], marker=\"o\", linestyle=\"-\", label=\"Winter\", color=\"b\")\n",
    "plt.plot(df_summer[\"year\"], df_summer[\"precip\"], marker=\"o\", linestyle=\"-\", label=\"Summer\", color=\"r\")\n",
    "plt.xlabel(\"Year\")\n",
    "plt.ylabel(\"Precipitation\")\n",
    "plt.title(\"Winter and Summer Seasonal Yearly Mean Precipitation\")\n",
    "plt.legend()\n",
    "plt.grid(True)\n",
    "plt.show()"
   ]
  },
  {
   "cell_type": "code",
   "execution_count": null,
   "metadata": {},
   "outputs": [],
   "source": [
    "# Ensure 'time' is in datetime format\n",
    "df_all_cleaned['time'] = pd.to_datetime(df_all_cleaned['time'])\n",
    "\n",
    "# Extract the year\n",
    "df_all_cleaned['year'] = df_all_cleaned['time'].dt.year\n",
    "\n",
    "# Group by year and calculate the mean precipitation\n",
    "df_yearly_mean = df_all_cleaned.groupby('year')['precip'].mean().reset_index()\n",
    "df_yearly_max = df_seasonal_yearly_mean.groupby('year')['precip'].max().reset_index()\n",
    "df_yearly_min = df_seasonal_yearly_mean.groupby('year')['precip'].min().reset_index()\n",
    "\n",
    "\n",
    "# Display the result\n"
   ]
  },
  {
   "cell_type": "code",
   "execution_count": null,
   "metadata": {},
   "outputs": [],
   "source": [
    "import matplotlib.pyplot as plt\n",
    "\n",
    "# Plot Yearly Mean, Max, and Min Precipitation\n",
    "plt.figure(figsize=(12, 6))\n",
    "\n",
    "# Plot Mean\n",
    "plt.plot(df_yearly_mean['year'], df_yearly_mean['precip'], marker='o', linestyle='-', color='b', label=\"Mean\")\n",
    "\n",
    "# Plot Max\n",
    "plt.plot(df_yearly_max['year'], df_yearly_max['precip'], marker='o', linestyle='-', color='r', label=\"Max\")\n",
    "\n",
    "# Plot Min\n",
    "plt.plot(df_yearly_min['year'], df_yearly_min['precip'], marker='o', linestyle='-', color='g', label=\"Min\")\n",
    "\n",
    "plt.xlabel(\"Year\")\n",
    "plt.ylabel(\"Precipitation\")\n",
    "plt.title(\"Yearly Mean, Max, and Min Precipitation\")\n",
    "plt.legend()\n",
    "plt.grid(True)\n",
    "plt.show()\n"
   ]
  }
 ],
 "metadata": {
  "kernelspec": {
   "display_name": "venv",
   "language": "python",
   "name": "python3"
  },
  "language_info": {
   "codemirror_mode": {
    "name": "ipython",
    "version": 3
   },
   "file_extension": ".py",
   "mimetype": "text/x-python",
   "name": "python",
   "nbconvert_exporter": "python",
   "pygments_lexer": "ipython3",
   "version": "3.11.9"
  }
 },
 "nbformat": 4,
 "nbformat_minor": 2
}
